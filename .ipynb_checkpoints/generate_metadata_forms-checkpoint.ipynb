{
 "cells": [
  {
   "cell_type": "code",
   "execution_count": 1,
   "metadata": {},
   "outputs": [],
   "source": [
    "# Read the Complete GMP\n",
    "f = open(\"UTSC_MODS_Master_Twig.yml\", \"r\")\n",
    "lines = f.readlines()\n",
    "f.close()"
   ]
  },
  {
   "cell_type": "code",
   "execution_count": 2,
   "metadata": {},
   "outputs": [],
   "source": [
    "def create_metadata_profile(metadata_profile):\n",
    "    fh = open(\"metadata_forms/utsc_metadata_profile_\" + metadata_profile + \".xml\", \"a\")\n",
    "\n",
    "    comment_flag = False        \n",
    "    for line in lines:\n",
    "        if (\"<!--begin_\" in line) and (metadata_profile not in line): \n",
    "            print(line)\n",
    "            comment_flag = True\n",
    "        \n",
    "        end_flag = False\n",
    "        if \"<!--end_\" in line and comment_flag == True: \n",
    "            comment_flag = False\n",
    "            end_flag = True\n",
    "\n",
    "        if comment_flag == True or end_flag == True:\n",
    "            continue\n",
    "            \n",
    "        fh.write(line)\n",
    "    fh.close()"
   ]
  },
  {
   "cell_type": "code",
   "execution_count": 3,
   "metadata": {},
   "outputs": [
    {
     "name": "stdout",
     "output_type": "stream",
     "text": [
      "Processing gmp\n",
      "Processing sohp\n",
      "Processing menus\n",
      "Processing gundagunde\n"
     ]
    }
   ],
   "source": [
    "metadata_profiles = [\"gmp\", \"sohp\", \"menus\", \"gundagunde\"]\n",
    "for metadata_profile in metadata_profiles:\n",
    "    print(\"Processing \" + metadata_profile)\n",
    "    create_metadata_profile(metadata_profile)"
   ]
  },
  {
   "cell_type": "code",
   "execution_count": null,
   "metadata": {},
   "outputs": [],
   "source": []
  },
  {
   "cell_type": "code",
   "execution_count": null,
   "metadata": {},
   "outputs": [],
   "source": []
  },
  {
   "cell_type": "code",
   "execution_count": null,
   "metadata": {},
   "outputs": [],
   "source": []
  },
  {
   "cell_type": "code",
   "execution_count": null,
   "metadata": {},
   "outputs": [],
   "source": []
  }
 ],
 "metadata": {
  "kernelspec": {
   "display_name": "Python 3",
   "language": "python",
   "name": "python3"
  },
  "language_info": {
   "codemirror_mode": {
    "name": "ipython",
    "version": 3
   },
   "file_extension": ".py",
   "mimetype": "text/x-python",
   "name": "python",
   "nbconvert_exporter": "python",
   "pygments_lexer": "ipython3",
   "version": "3.8.5"
  }
 },
 "nbformat": 4,
 "nbformat_minor": 4
}
